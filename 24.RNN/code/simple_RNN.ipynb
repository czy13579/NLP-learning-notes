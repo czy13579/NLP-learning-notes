{
 "cells": [
  {
   "cell_type": "code",
   "execution_count": 3,
   "metadata": {},
   "outputs": [],
   "source": [
    "academy_titles=[]\n",
    "job_titles=[]\n",
    "with open('academy_titles.txt', encoding='utf-8') as f:\n",
    "    for l in f:\n",
    "        academy_titles.append(l.strip())\n",
    "with open('job_titles.txt', encoding='utf-8') as f:\n",
    "    for l in f:\n",
    "        job_titles.append(l.strip())\n"
   ]
  },
  {
   "cell_type": "code",
   "execution_count": 9,
   "metadata": {},
   "outputs": [
    {
     "data": {
      "text/plain": [
       "1217"
      ]
     },
     "execution_count": 9,
     "metadata": {},
     "output_type": "execute_result"
    }
   ],
   "source": [
    "char_set=set()\n",
    "for title in job_titles:\n",
    "    for ch in title:\n",
    "        char_set.add(ch)\n",
    "for title in academy_titles:\n",
    "    for ch in title:\n",
    "        char_set.add(ch)\n",
    "len(char_set)"
   ]
  },
  {
   "cell_type": "code",
   "execution_count": 11,
   "metadata": {},
   "outputs": [
    {
     "name": "stdout",
     "output_type": "stream",
     "text": [
      "百度校园品牌部实习生招聘\n",
      "tensor([ 734,  361, 1063,  581, 1066,  413,    3,  355, 1067,  987,  906,  787])\n",
      "torch.Size([12, 100])\n"
     ]
    }
   ],
   "source": [
    "import torch\n",
    "char_list=list(char_set)\n",
    "n_chars=len(char_list)+1\n",
    "\n",
    "def title_to_tensor_one_hot(title):#将字符串转换为one-hot向量\n",
    "    tensor=torch.zeros(len(title),1,n_chars)\n",
    "    for i,char in enumerate(title):\n",
    "        try:\n",
    "            ind=char_list.index(char)\n",
    "        except:\n",
    "            ind=n_chars-1\n",
    "        tensor[i][0][ind]=1\n",
    "    return tensor\n",
    "\n",
    "def title_to_tensor(title):#\n",
    "    tensor=torch.zeros(len(title),dtype=torch.long)\n",
    "    for i,char in enumerate(title):\n",
    "        try:\n",
    "            ind=char_list.index(char)\n",
    "        except:\n",
    "            ind=n_chars-1\n",
    "        tensor[i]=ind\n",
    "    return tensor\n",
    "\n",
    "embed=torch.nn.Embedding(n_chars,100)\n",
    "test=job_titles[1]\n",
    "print(test)\n",
    "print(title_to_tensor(test))\n",
    "print(embed(title_to_tensor(test)).shape)\n"
   ]
  },
  {
   "cell_type": "code",
   "execution_count": null,
   "metadata": {},
   "outputs": [],
   "source": [
    "class RNN(nn.Module):"
   ]
  }
 ],
 "metadata": {
  "kernelspec": {
   "display_name": "base",
   "language": "python",
   "name": "python3"
  },
  "language_info": {
   "codemirror_mode": {
    "name": "ipython",
    "version": 3
   },
   "file_extension": ".py",
   "mimetype": "text/x-python",
   "name": "python",
   "nbconvert_exporter": "python",
   "pygments_lexer": "ipython3",
   "version": "3.9.7"
  }
 },
 "nbformat": 4,
 "nbformat_minor": 2
}
